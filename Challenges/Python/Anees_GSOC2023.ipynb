{
  "nbformat": 4,
  "nbformat_minor": 0,
  "metadata": {
    "colab": {
      "provenance": []
    },
    "kernelspec": {
      "name": "python3",
      "display_name": "Python 3"
    },
    "language_info": {
      "name": "python"
    }
  },
  "cells": [
    {
      "cell_type": "markdown",
      "source": [
        "**ANEES ASLAM** \n",
        "\n",
        "**I** 💙 **JdeROBOT**\n",
        "\n",
        "Python Challenge\n"
      ],
      "metadata": {
        "id": "LouVL-hWP8y7"
      }
    },
    {
      "cell_type": "code",
      "source": [
        "!pip install imageio\n"
      ],
      "metadata": {
        "colab": {
          "base_uri": "https://localhost:8080/"
        },
        "id": "oO_UJB6oMx-m",
        "outputId": "447f9dda-9fcb-4141-e457-e17d09dfea16"
      },
      "execution_count": 31,
      "outputs": [
        {
          "output_type": "stream",
          "name": "stdout",
          "text": [
            "Looking in indexes: https://pypi.org/simple, https://us-python.pkg.dev/colab-wheels/public/simple/\n",
            "Requirement already satisfied: imageio in /usr/local/lib/python3.9/dist-packages (2.25.1)\n",
            "Requirement already satisfied: numpy in /usr/local/lib/python3.9/dist-packages (from imageio) (1.22.4)\n",
            "Requirement already satisfied: pillow>=8.3.2 in /usr/local/lib/python3.9/dist-packages (from imageio) (8.4.0)\n"
          ]
        }
      ]
    },
    {
      "cell_type": "code",
      "source": [
        "import numpy as np\n",
        "import matplotlib.pyplot as plt\n",
        "import imageio\n",
        "\n",
        "\n",
        "class Robot:\n",
        "    def __init__(self, position, direction, speed=1, arena_size=1000):\n",
        "        self.position = position\n",
        "        self.direction = direction\n",
        "        self.speed = speed\n",
        "        self.arena_size = arena_size\n",
        "    def update(self, boundary):\n",
        "        # Move the robot in the current direction\n",
        "        self.position += self.direction\n",
        "        if self.position[0] < 0:\n",
        "          self.position[0] = 0\n",
        "        elif self.position[0] >= self.arena_size:\n",
        "          self.position[0] = self.arena_size - 1\n",
        "\n",
        "        if self.position[1] < 0:\n",
        "            self.position[1] = 0\n",
        "        elif self.position[1] >= self.arena_size:\n",
        "            self.position[1] = self.arena_size - 1\n",
        "            \n",
        "\n",
        "        # Check if the new position is out of bounds\n",
        "        if self.position[0] < 0 or self.position[0] >= self.arena_size or \\\n",
        "                self.position[1] < 0 or self.position[1] >= self.arena_size:\n",
        "            # If the new position is out of bounds, rotate the robot and move it forward\n",
        "            self.direction = rotate(self.direction, np.random.normal(scale=0.1))\n",
        "            self.position += self.direction\n",
        "        else:\n",
        "            # If the new position is within bounds, add some random noise to the robot's direction\n",
        "            self.direction = rotate(self.direction, np.random.normal(scale=0.1))\n",
        "\n",
        "        # Update the boundary with the position of the robot\n",
        "        boundary[int(self.position[1]), int(self.position[0])] = 1\n",
        "\n",
        "        return boundary\n",
        "\n",
        "\n",
        "def rotate(vector, angle):\n",
        "    \"\"\"\n",
        "    Rotate a 2D vector by a given angle (in radians).\n",
        "    \"\"\"\n",
        "    rotation_matrix = np.array([[np.cos(angle), -np.sin(angle)],\n",
        "                                [np.sin(angle), np.cos(angle)]])\n",
        "    return rotation_matrix.dot(vector)\n",
        "\n",
        "def simulate_brownian_motion(arena_size, num_steps, speed=1, direction=np.array([1, 0])):\n",
        "    # Initialize the robot and the boundary\n",
        "    robot = Robot(position=np.array([arena_size/2, arena_size/2]), direction=direction, speed=speed, arena_size=arena_size)\n",
        "    boundary = np.zeros((arena_size, arena_size))\n",
        "    boundary[int(robot.position[1]), int(robot.position[0])] = 1\n",
        "\n",
        "    # Create a list of boundary snapshots for creating the GIF\n",
        "    boundary_snapshots = [boundary.copy()]\n",
        "\n",
        "    # Simulate the robot's movement\n",
        "    for i in range(num_steps):\n",
        "        boundary = robot.update(boundary)\n",
        "        boundary_snapshots.append(boundary.copy())\n",
        "\n",
        "    # Create the GIF from the boundary snapshots\n",
        "    images = []\n",
        "    for boundary in boundary_snapshots:\n",
        "        fig, ax = plt.subplots()\n",
        "        ax.imshow(boundary, cmap='gray_r')\n",
        "        ax.axis('off')\n",
        "        plt.tight_layout()\n",
        "        plt.savefig('frame.png')\n",
        "        images.append(imageio.imread('frame.png'))\n",
        "        plt.close()\n",
        "\n",
        "    imageio.mimsave('brownian_motion.gif', images, fps=20)\n",
        "\n",
        "if __name__ == '__main__':\n",
        "    simulate_brownian_motion(100, 90) # arena_size, num_steps\n"
      ],
      "metadata": {
        "colab": {
          "base_uri": "https://localhost:8080/"
        },
        "id": "bp5oJfw_MzLV",
        "outputId": "7a4de6f2-3c7e-4b1d-bde5-a6d0e6a549b4"
      },
      "execution_count": 6,
      "outputs": [
        {
          "output_type": "stream",
          "name": "stderr",
          "text": [
            "<ipython-input-6-5146b424a942>:72: DeprecationWarning: Starting with ImageIO v3 the behavior of this function will switch to that of iio.v3.imread. To keep the current behavior (and make this warning disappear) use `import imageio.v2 as imageio` or call `imageio.v2.imread` directly.\n",
            "  images.append(imageio.imread('frame.png'))\n"
          ]
        }
      ]
    }
  ]
}